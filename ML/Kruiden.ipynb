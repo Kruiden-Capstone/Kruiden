{
  "nbformat": 4,
  "nbformat_minor": 0,
  "metadata": {
    "colab": {
      "provenance": []
    },
    "kernelspec": {
      "name": "python3",
      "display_name": "Python 3"
    },
    "language_info": {
      "name": "python"
    }
  },
  "cells": [
    {
      "cell_type": "markdown",
      "source": [
        "## Prepare Dataset"
      ],
      "metadata": {
        "id": "mUUWUsSTI_qm"
      }
    },
    {
      "cell_type": "code",
      "source": [
        "import pandas as pd\n",
        "from google.colab import files\n",
        "import io"
      ],
      "metadata": {
        "id": "sDzr0BplAtLR"
      },
      "execution_count": null,
      "outputs": []
    },
    {
      "cell_type": "code",
      "source": [
        "uploaded = files.upload()"
      ],
      "metadata": {
        "colab": {
          "base_uri": "https://localhost:8080/",
          "height": 73
        },
        "id": "rhErcsU9AvE5",
        "outputId": "cec8c2a7-b596-4001-a999-6cfbc50817da"
      },
      "execution_count": null,
      "outputs": [
        {
          "output_type": "display_data",
          "data": {
            "text/plain": [
              "<IPython.core.display.HTML object>"
            ],
            "text/html": [
              "\n",
              "     <input type=\"file\" id=\"files-f56c272f-0703-4603-aa97-ec1f29c070c1\" name=\"files[]\" multiple disabled\n",
              "        style=\"border:none\" />\n",
              "     <output id=\"result-f56c272f-0703-4603-aa97-ec1f29c070c1\">\n",
              "      Upload widget is only available when the cell has been executed in the\n",
              "      current browser session. Please rerun this cell to enable.\n",
              "      </output>\n",
              "      <script>// Copyright 2017 Google LLC\n",
              "//\n",
              "// Licensed under the Apache License, Version 2.0 (the \"License\");\n",
              "// you may not use this file except in compliance with the License.\n",
              "// You may obtain a copy of the License at\n",
              "//\n",
              "//      http://www.apache.org/licenses/LICENSE-2.0\n",
              "//\n",
              "// Unless required by applicable law or agreed to in writing, software\n",
              "// distributed under the License is distributed on an \"AS IS\" BASIS,\n",
              "// WITHOUT WARRANTIES OR CONDITIONS OF ANY KIND, either express or implied.\n",
              "// See the License for the specific language governing permissions and\n",
              "// limitations under the License.\n",
              "\n",
              "/**\n",
              " * @fileoverview Helpers for google.colab Python module.\n",
              " */\n",
              "(function(scope) {\n",
              "function span(text, styleAttributes = {}) {\n",
              "  const element = document.createElement('span');\n",
              "  element.textContent = text;\n",
              "  for (const key of Object.keys(styleAttributes)) {\n",
              "    element.style[key] = styleAttributes[key];\n",
              "  }\n",
              "  return element;\n",
              "}\n",
              "\n",
              "// Max number of bytes which will be uploaded at a time.\n",
              "const MAX_PAYLOAD_SIZE = 100 * 1024;\n",
              "\n",
              "function _uploadFiles(inputId, outputId) {\n",
              "  const steps = uploadFilesStep(inputId, outputId);\n",
              "  const outputElement = document.getElementById(outputId);\n",
              "  // Cache steps on the outputElement to make it available for the next call\n",
              "  // to uploadFilesContinue from Python.\n",
              "  outputElement.steps = steps;\n",
              "\n",
              "  return _uploadFilesContinue(outputId);\n",
              "}\n",
              "\n",
              "// This is roughly an async generator (not supported in the browser yet),\n",
              "// where there are multiple asynchronous steps and the Python side is going\n",
              "// to poll for completion of each step.\n",
              "// This uses a Promise to block the python side on completion of each step,\n",
              "// then passes the result of the previous step as the input to the next step.\n",
              "function _uploadFilesContinue(outputId) {\n",
              "  const outputElement = document.getElementById(outputId);\n",
              "  const steps = outputElement.steps;\n",
              "\n",
              "  const next = steps.next(outputElement.lastPromiseValue);\n",
              "  return Promise.resolve(next.value.promise).then((value) => {\n",
              "    // Cache the last promise value to make it available to the next\n",
              "    // step of the generator.\n",
              "    outputElement.lastPromiseValue = value;\n",
              "    return next.value.response;\n",
              "  });\n",
              "}\n",
              "\n",
              "/**\n",
              " * Generator function which is called between each async step of the upload\n",
              " * process.\n",
              " * @param {string} inputId Element ID of the input file picker element.\n",
              " * @param {string} outputId Element ID of the output display.\n",
              " * @return {!Iterable<!Object>} Iterable of next steps.\n",
              " */\n",
              "function* uploadFilesStep(inputId, outputId) {\n",
              "  const inputElement = document.getElementById(inputId);\n",
              "  inputElement.disabled = false;\n",
              "\n",
              "  const outputElement = document.getElementById(outputId);\n",
              "  outputElement.innerHTML = '';\n",
              "\n",
              "  const pickedPromise = new Promise((resolve) => {\n",
              "    inputElement.addEventListener('change', (e) => {\n",
              "      resolve(e.target.files);\n",
              "    });\n",
              "  });\n",
              "\n",
              "  const cancel = document.createElement('button');\n",
              "  inputElement.parentElement.appendChild(cancel);\n",
              "  cancel.textContent = 'Cancel upload';\n",
              "  const cancelPromise = new Promise((resolve) => {\n",
              "    cancel.onclick = () => {\n",
              "      resolve(null);\n",
              "    };\n",
              "  });\n",
              "\n",
              "  // Wait for the user to pick the files.\n",
              "  const files = yield {\n",
              "    promise: Promise.race([pickedPromise, cancelPromise]),\n",
              "    response: {\n",
              "      action: 'starting',\n",
              "    }\n",
              "  };\n",
              "\n",
              "  cancel.remove();\n",
              "\n",
              "  // Disable the input element since further picks are not allowed.\n",
              "  inputElement.disabled = true;\n",
              "\n",
              "  if (!files) {\n",
              "    return {\n",
              "      response: {\n",
              "        action: 'complete',\n",
              "      }\n",
              "    };\n",
              "  }\n",
              "\n",
              "  for (const file of files) {\n",
              "    const li = document.createElement('li');\n",
              "    li.append(span(file.name, {fontWeight: 'bold'}));\n",
              "    li.append(span(\n",
              "        `(${file.type || 'n/a'}) - ${file.size} bytes, ` +\n",
              "        `last modified: ${\n",
              "            file.lastModifiedDate ? file.lastModifiedDate.toLocaleDateString() :\n",
              "                                    'n/a'} - `));\n",
              "    const percent = span('0% done');\n",
              "    li.appendChild(percent);\n",
              "\n",
              "    outputElement.appendChild(li);\n",
              "\n",
              "    const fileDataPromise = new Promise((resolve) => {\n",
              "      const reader = new FileReader();\n",
              "      reader.onload = (e) => {\n",
              "        resolve(e.target.result);\n",
              "      };\n",
              "      reader.readAsArrayBuffer(file);\n",
              "    });\n",
              "    // Wait for the data to be ready.\n",
              "    let fileData = yield {\n",
              "      promise: fileDataPromise,\n",
              "      response: {\n",
              "        action: 'continue',\n",
              "      }\n",
              "    };\n",
              "\n",
              "    // Use a chunked sending to avoid message size limits. See b/62115660.\n",
              "    let position = 0;\n",
              "    do {\n",
              "      const length = Math.min(fileData.byteLength - position, MAX_PAYLOAD_SIZE);\n",
              "      const chunk = new Uint8Array(fileData, position, length);\n",
              "      position += length;\n",
              "\n",
              "      const base64 = btoa(String.fromCharCode.apply(null, chunk));\n",
              "      yield {\n",
              "        response: {\n",
              "          action: 'append',\n",
              "          file: file.name,\n",
              "          data: base64,\n",
              "        },\n",
              "      };\n",
              "\n",
              "      let percentDone = fileData.byteLength === 0 ?\n",
              "          100 :\n",
              "          Math.round((position / fileData.byteLength) * 100);\n",
              "      percent.textContent = `${percentDone}% done`;\n",
              "\n",
              "    } while (position < fileData.byteLength);\n",
              "  }\n",
              "\n",
              "  // All done.\n",
              "  yield {\n",
              "    response: {\n",
              "      action: 'complete',\n",
              "    }\n",
              "  };\n",
              "}\n",
              "\n",
              "scope.google = scope.google || {};\n",
              "scope.google.colab = scope.google.colab || {};\n",
              "scope.google.colab._files = {\n",
              "  _uploadFiles,\n",
              "  _uploadFilesContinue,\n",
              "};\n",
              "})(self);\n",
              "</script> "
            ]
          },
          "metadata": {}
        },
        {
          "output_type": "stream",
          "name": "stdout",
          "text": [
            "Saving Herbal - Dataset + Nama Herbal.csv to Herbal - Dataset + Nama Herbal (2).csv\n"
          ]
        }
      ]
    },
    {
      "cell_type": "markdown",
      "source": [
        "## (Opsi lain) Ambil dataset dari gdrive"
      ],
      "metadata": {
        "id": "cgAjUeCFyTf-"
      }
    },
    {
      "cell_type": "code",
      "source": [
        "!pip install gdown"
      ],
      "metadata": {
        "colab": {
          "base_uri": "https://localhost:8080/"
        },
        "id": "xAW7Gpx3yTCE",
        "outputId": "a1b25206-0a7b-44ac-ab1e-9dd860076411"
      },
      "execution_count": null,
      "outputs": [
        {
          "output_type": "stream",
          "name": "stdout",
          "text": [
            "Requirement already satisfied: gdown in /usr/local/lib/python3.10/dist-packages (4.6.6)\n",
            "Requirement already satisfied: filelock in /usr/local/lib/python3.10/dist-packages (from gdown) (3.13.1)\n",
            "Requirement already satisfied: requests[socks] in /usr/local/lib/python3.10/dist-packages (from gdown) (2.31.0)\n",
            "Requirement already satisfied: six in /usr/local/lib/python3.10/dist-packages (from gdown) (1.16.0)\n",
            "Requirement already satisfied: tqdm in /usr/local/lib/python3.10/dist-packages (from gdown) (4.66.1)\n",
            "Requirement already satisfied: beautifulsoup4 in /usr/local/lib/python3.10/dist-packages (from gdown) (4.11.2)\n",
            "Requirement already satisfied: soupsieve>1.2 in /usr/local/lib/python3.10/dist-packages (from beautifulsoup4->gdown) (2.5)\n",
            "Requirement already satisfied: charset-normalizer<4,>=2 in /usr/local/lib/python3.10/dist-packages (from requests[socks]->gdown) (3.3.2)\n",
            "Requirement already satisfied: idna<4,>=2.5 in /usr/local/lib/python3.10/dist-packages (from requests[socks]->gdown) (3.6)\n",
            "Requirement already satisfied: urllib3<3,>=1.21.1 in /usr/local/lib/python3.10/dist-packages (from requests[socks]->gdown) (2.0.7)\n",
            "Requirement already satisfied: certifi>=2017.4.17 in /usr/local/lib/python3.10/dist-packages (from requests[socks]->gdown) (2023.11.17)\n",
            "Requirement already satisfied: PySocks!=1.5.7,>=1.5.6 in /usr/local/lib/python3.10/dist-packages (from requests[socks]->gdown) (1.7.1)\n"
          ]
        }
      ]
    },
    {
      "cell_type": "code",
      "source": [
        "import gdown\n",
        "\n",
        "# Ganti 'file_id' dengan ID file Google Drive\n",
        "file_id = '1SZNXY6D1pMnTdSDGJ4NhTuMRFghjjT51'\n",
        "url = f'https://drive.google.com/uc?id={file_id}'\n",
        "\n",
        "# Ganti 'output' dengan nama file yang ingin Anda berikan\n",
        "output = 'Herbal Dataset.csv'\n",
        "\n",
        "gdown.download(url, output, quiet=False)"
      ],
      "metadata": {
        "id": "-DK8tAcwycml",
        "colab": {
          "base_uri": "https://localhost:8080/",
          "height": 105
        },
        "outputId": "294636d5-6662-4e3d-c3d1-9345431cb319"
      },
      "execution_count": null,
      "outputs": [
        {
          "output_type": "stream",
          "name": "stderr",
          "text": [
            "Downloading...\n",
            "From: https://drive.google.com/uc?id=1SZNXY6D1pMnTdSDGJ4NhTuMRFghjjT51\n",
            "To: /content/Herbal Dataset.csv\n",
            "100%|██████████| 312k/312k [00:00<00:00, 63.4MB/s]\n"
          ]
        },
        {
          "output_type": "execute_result",
          "data": {
            "text/plain": [
              "'Herbal Dataset.csv'"
            ],
            "application/vnd.google.colaboratory.intrinsic+json": {
              "type": "string"
            }
          },
          "metadata": {},
          "execution_count": 3
        }
      ]
    },
    {
      "cell_type": "markdown",
      "source": [
        "## MODEL FIX"
      ],
      "metadata": {
        "id": "ARQ8z2koyJuQ"
      }
    },
    {
      "cell_type": "code",
      "source": [
        "import pandas as pd\n",
        "from sklearn.feature_extraction.text import TfidfVectorizer\n",
        "from sklearn.metrics.pairwise import linear_kernel\n",
        "\n",
        "# Load and preprocess dataset\n",
        "df = pd.read_csv(\"Herbal Dataset.csv\")\n",
        "nama_herbal_column_name = 'Nama Herbal'\n",
        "khasiat_column_name = 'Khasiat'\n",
        "saran_penyajian_column_name = 'Saran Penyajian'\n",
        "\n",
        "# Save the original case of the columns\n",
        "df['original_case_nama_herbal'] = df[nama_herbal_column_name]\n",
        "df['original_case_khasiat'] = df[khasiat_column_name]\n",
        "df['original_case_saran'] = df[saran_penyajian_column_name]\n",
        "\n",
        "# Convert all words to lowercase\n",
        "df[nama_herbal_column_name] = df[nama_herbal_column_name].str.lower()\n",
        "df[khasiat_column_name] = df[khasiat_column_name].str.lower()\n",
        "df[saran_penyajian_column_name] = df[saran_penyajian_column_name].str.lower()\n",
        "\n",
        "# Menggabungkan kolom 'Khasiat' dan 'Saran Penyajian' menjadi satu teks\n",
        "df['combined_text'] = df[nama_herbal_column_name] + ' ' + df[khasiat_column_name] + ' ' + df[saran_penyajian_column_name]\n",
        "\n",
        "# TF-IDF Vectorization\n",
        "tfidf_vectorizer = TfidfVectorizer(ngram_range=(1, 3), min_df=2, sublinear_tf=True)\n",
        "tfidf_matrix = tfidf_vectorizer.fit_transform(df['combined_text'])\n",
        "\n",
        "# Function to recommend rempah based on user input\n",
        "def recommend_rempah(input_text):\n",
        "    input_text = input_text.lower()\n",
        "    input_vector = tfidf_vectorizer.transform([input_text])\n",
        "\n",
        "    cosine_similarities = linear_kernel(input_vector, tfidf_matrix).flatten()\n",
        "\n",
        "    # Filter out recommendations with cosine similarity = 0.0\n",
        "    nonzero_indices = [i for i, sim in enumerate(cosine_similarities) if sim != 0.0]\n",
        "    if not nonzero_indices:\n",
        "        return None\n",
        "\n",
        "    # Sort and get top 10 recommendations\n",
        "    related_rempah_indices = sorted(nonzero_indices, key=lambda i: cosine_similarities[i], reverse=True)[:7]\n",
        "\n",
        "    print(\"7 nilai cosine similarity tertinggi:\\n\")\n",
        "    for index in related_rempah_indices:\n",
        "        print(cosine_similarities[index])\n",
        "\n",
        "    recommended_rempah = df.iloc[related_rempah_indices][['original_case_nama_herbal', 'original_case_khasiat', 'original_case_saran']]\n",
        "    return recommended_rempah, cosine_similarities  # Kembalikan cosine_similarities bersama dengan rekomendasi rempah\n",
        "\n",
        "# User input through Colab GUI\n",
        "input_penyakit = input(\"Masukkan penyakit: \")\n",
        "result = recommend_rempah(input_penyakit)\n",
        "\n",
        "if result is not None:\n",
        "    recommendations, cosine_similarities = result\n",
        "    print(\"\\n\" + \"=\"*500 + \"\\n\")\n",
        "    # Outputkan hasil per baris\n",
        "    for index, row in recommendations.iterrows():\n",
        "        print(f\"Nama Herbal: {row['original_case_nama_herbal']}\")\n",
        "        print(f\"Khasiat: {row['original_case_khasiat']}\")\n",
        "        print(f\"Saran Penyajian: {row['original_case_saran']}\")\n",
        "\n",
        "        # Cetak nilai cosine similarity untuk setiap rekomendasi rempah\n",
        "        cosine_similarity = cosine_similarities[index]\n",
        "        print(f\"Nilai Cosine Similarity: {cosine_similarity}\")\n",
        "\n",
        "        print(\"\\n\" + \"=\"*500 + \"\\n\")  # Pembatas antar rekomendasi\n",
        "else:\n",
        "    print(f'Maaf, tidak ada rekomendasi yang sesuai untuk penyakit {input_penyakit}.')\n"
      ],
      "metadata": {
        "id": "rvmy1o4VyIFz",
        "colab": {
          "base_uri": "https://localhost:8080/"
        },
        "outputId": "6789d0fe-6558-4407-e037-aa63fc068495"
      },
      "execution_count": null,
      "outputs": [
        {
          "output_type": "stream",
          "name": "stdout",
          "text": [
            "Masukkan penyakit: Diabetes Melitus\n",
            "7 nilai cosine similarity tertinggi:\n",
            "\n",
            "0.30733538980878855\n",
            "0.17164990066534824\n",
            "0.16138775638364805\n",
            "0.15123207767202307\n",
            "0.1507918331561274\n",
            "0.14842801011185358\n",
            "0.13889970612041752\n",
            "\n",
            "====================================================================================================================================================================================================================================================================================================================================================================================================================================================================================================================\n",
            "\n",
            "Nama Herbal: Tapak dara\n",
            "Khasiat: Daun tapak dara mengandung senyawa alkaloid, glikosida, dan flavonoid yang memiliki efek hipoglikemik, yaitu dapat menurunkan kadar gula darah. Hal ini dapat membantu mengobati diabetes melitus, terutama diabetes melitus tipe 2.\n",
            "Saran Penyajian: 10-16 lembar daun tapak dara direbus dengan 3 gelas air sampai mendidih hingga tinggal 1 gelas. setelah dingin diminum, diulangi sampai sembuh.\n",
            "Nilai Cosine Similarity: 0.30733538980878855\n",
            "\n",
            "====================================================================================================================================================================================================================================================================================================================================================================================================================================================================================================================\n",
            "\n",
            "Nama Herbal: Kedelai\n",
            "Khasiat: Kedelai (Glycine max) adalah tanaman herbal yang memiliki berbagai khasiat, salah satunya untuk membantu mengelola diabetes melitus. Kedelai mengandung senyawa-senyawa yang dapat meningkatkan sensitivitas insulin dan mengurangi kadar gula darah.\n",
            "Saran Penyajian: 1 genggam biji kedelai hitam direbus dengan 3 gelas air sampai mendidih hingga tinggal 1 gelas dan disaring untuk diambil airnya. Diminum 1 kali sehari 1 gelas dan dilakukan secara rutin setiap hari.\n",
            "Nilai Cosine Similarity: 0.17164990066534824\n",
            "\n",
            "====================================================================================================================================================================================================================================================================================================================================================================================================================================================================================================================\n",
            "\n",
            "Nama Herbal: Alpukat\n",
            "Khasiat: Alpukat mengandung serat tinggi dan lemak sehat yang membantu mengontrol kadar gula darah dengan mengurangi penyerapan glukosa. Selain itu, senyawa antiinflamasi dan antioksidan dalam alpukat juga dapat meningkatkan sensitivitas insulin, memberikan manfaat tambahan dalam pengelolaan diabetes melitus.\n",
            "Saran Penyajian: biji alpukat diiris tipis dan dijemur hingga kering. biji alpukat yang telah kering selanjutnya disangrai lalu diblender. serbuk biji alpukat yang telah halus dimasukkan ke dalam kapsul. kapsul berisi biji alpukat tersebut diminum satu kali sehari.\n",
            "Nilai Cosine Similarity: 0.16138775638364805\n",
            "\n",
            "====================================================================================================================================================================================================================================================================================================================================================================================================================================================================================================================\n",
            "\n",
            "Nama Herbal: Kecibeling\n",
            "Khasiat: Kecibeling memiliki berbagai khasiat, salah satunya adalah untuk mengatasi diabetes melitus. Kandungan senyawa flavonoid, alkaloid, dan polifenol dalam kecibeling memiliki efek hipoglikemik yang dapat membantu menurunkan kadar gula darah. Efek hipoglikemik dapat membantu meningkatkan produksi insulin, meningkatkan sensitivitas insulin, dan mengurangi penyerapan glukosa di usus.\n",
            "Saran Penyajian: Daun kecibeling mentah dan segar 3 lembar dimakan sebagai lalapan setiap hari dan dilakukan secara teratur.\n",
            "Nilai Cosine Similarity: 0.15123207767202307\n",
            "\n",
            "====================================================================================================================================================================================================================================================================================================================================================================================================================================================================================================================\n",
            "\n",
            "Nama Herbal: Jambu Biji\n",
            "Khasiat: Jambu biji (Psidium guajava) adalah tanaman herbal yang memiliki berbagai macam khasiat, salah satunya untuk membantu mengontrol kadar gula darah pada penderita diabetes melitus. Buah jambu biji mengandung senyawa-senyawa yang bersifat antioksidan, antiinflamasi, dan hipoglikemik, yang dapat membantu melindungi sel-sel pankreas, mengurangi peradangan, dan menurunkan kadar gula darah.\n",
            "Saran Penyajian: 1 buah jambu biji setengah masak dibelah menjadi 4 bagian dan direbus dengan 1 liter air sampai mendidih, kemudian disaring untuk diambil airnya. diminum 2 kali sehari, pagi dan sore.\n",
            "Nilai Cosine Similarity: 0.1507918331561274\n",
            "\n",
            "====================================================================================================================================================================================================================================================================================================================================================================================================================================================================================================================\n",
            "\n",
            "Nama Herbal: Bunga Pukul Empat\n",
            "Khasiat: Bunga Pukul Empat mengandung senyawa bioaktif, seperti flavonoid, yang telah diketahui memiliki efek menurunkan kadar gula darah. Konsumsi ekstrak bunga ini dapat memberikan dukungan dalam pengelolaan diabetes melitus dengan meningkatkan sensitivitas insulin dan membantu mengontrol kadar glukosa secara alami.\n",
            "Saran Penyajian: rebus 9-15 g kering atau 15-30 g akar segar kembang pukul empat dengan 4 gelas air sampai tersisa 2 gelas. Saring air rebusan, minum dua kali sehari masing-masing 1 gelas.\n",
            "Nilai Cosine Similarity: 0.14842801011185358\n",
            "\n",
            "====================================================================================================================================================================================================================================================================================================================================================================================================================================================================================================================\n",
            "\n",
            "Nama Herbal: Kacapiring\n",
            "Khasiat: Kacapiring memiliki berbagai khasiat, salah satunya adalah untuk membantu mengatasi diabetes melitus. Kandungan senyawa flavonoid, saponin, dan tanin dalam kacapiring memiliki efek hipoglikemik, yaitu dapat menurunkan kadar gula darah. Efek hipoglikemik ini diduga disebabkan oleh kemampuan senyawa-senyawa tersebut untuk meningkatkan sekresi insulin, meningkatkan sensitivitas sel terhadap insulin, dan menghambat penyerapan glukosa di usus halus.\n",
            "Saran Penyajian: 12 lembar daun kacapiring direbus dengan 2 gelas air sampai mendidih hingga tersisa 1 gelas. Diminum sekaligus dan diulangi secara rutin setiap hari.\n",
            "Nilai Cosine Similarity: 0.13889970612041752\n",
            "\n",
            "====================================================================================================================================================================================================================================================================================================================================================================================================================================================================================================================\n",
            "\n"
          ]
        }
      ]
    }
  ]
}